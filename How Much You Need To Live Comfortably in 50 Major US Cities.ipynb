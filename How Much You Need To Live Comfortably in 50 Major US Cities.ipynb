{
 "cells": [
  {
   "cell_type": "code",
   "execution_count": 1,
   "id": "46bc096b",
   "metadata": {},
   "outputs": [
    {
     "name": "stdout",
     "output_type": "stream",
     "text": [
      "choose your city?: chicago\n",
      "{'name': 'Chicago, Illinois', 'median': 'Median income: $62,097', 'homeowner': 'Income needed if you’re a homeowner: $85,326.41', 'renter': 'Income needed if you’re a renter: $75,702.41'}\n"
     ]
    }
   ],
   "source": [
    "import requests\n",
    "import json\n",
    "\n",
    "API_KEY = \"t8fovgdOQk-Y\"\n",
    "Project_Token = \"tFfrZYNc1uua\"\n",
    "Run_Token = \"tiLcODb-NOnw\"\n",
    "\n",
    "\n",
    "class data:\n",
    "    def __init__(self, api_key, project_token):\n",
    "        self.api_key = api_key\n",
    "        self.project_token = project_token\n",
    "        self.params = {\n",
    "            \"api_key\": self.api_key\n",
    "        }\n",
    "        self.get_data()\n",
    "\n",
    "    def get_data(self):\n",
    "        response = requests.get(f'https://parsehub.com/api/v2/projects/{Project_Token}/last_ready_run/data', params={\"api_key\": API_KEY})\n",
    "        self.data = json.loads(response.text)\n",
    "\n",
    "    def get_city_data(self,city):\n",
    "        data = self.data['city']\n",
    "        \n",
    "        \n",
    "        for c in data:\n",
    "            \n",
    "            if c['name'].split(',',1)[0].lower() == city.lower():\n",
    "                return c\n",
    "        \n",
    "        \n",
    "city = input('choose your city?: ')      \n",
    "   \n",
    "data = data(API_KEY,Project_Token)\n",
    "print(data.get_city_data(city))"
   ]
  },
  {
   "cell_type": "code",
   "execution_count": null,
   "id": "4d38bb9a",
   "metadata": {},
   "outputs": [],
   "source": []
  }
 ],
 "metadata": {
  "kernelspec": {
   "display_name": "Python 3 (ipykernel)",
   "language": "python",
   "name": "python3"
  },
  "language_info": {
   "codemirror_mode": {
    "name": "ipython",
    "version": 3
   },
   "file_extension": ".py",
   "mimetype": "text/x-python",
   "name": "python",
   "nbconvert_exporter": "python",
   "pygments_lexer": "ipython3",
   "version": "3.9.7"
  }
 },
 "nbformat": 4,
 "nbformat_minor": 5
}
